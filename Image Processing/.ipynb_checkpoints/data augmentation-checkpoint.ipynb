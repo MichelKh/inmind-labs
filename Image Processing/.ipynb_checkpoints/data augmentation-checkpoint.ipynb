{
 "cells": [
  {
   "cell_type": "code",
   "execution_count": null,
   "id": "c7d7ed0b-d2b9-43c8-a6e1-f115a8cd3829",
   "metadata": {},
   "outputs": [],
   "source": [
    "import random\n",
    "\n",
    "import cv2\n",
    "from matplotlib import pyplot as plt\n",
    "\n",
    "import albumentations as A\n"
   ]
  },
  {
   "cell_type": "code",
   "execution_count": null,
   "id": "d0256d5f-6142-4e67-bc85-029885b198ab",
   "metadata": {},
   "outputs": [],
   "source": [
    "def visualize(image):\n",
    "    plt.figure(figsize=(10, 10))\n",
    "    plt.axis('off')\n",
    "    plt.imshow(image)"
   ]
  },
  {
   "cell_type": "code",
   "execution_count": null,
   "id": "4b5dfc91-b025-44e0-a2ec-7793a8d6d61b",
   "metadata": {},
   "outputs": [],
   "source": [
    "image = cv2.imread('000002.jpg')\n",
    "image = cv2.cvtColor(image, cv2.COLOR_BGR2RGB)\n",
    "visualize(image)"
   ]
  },
  {
   "cell_type": "code",
   "execution_count": null,
   "id": "4353a254-35dc-4fcb-9f80-ae17733183c2",
   "metadata": {},
   "outputs": [],
   "source": [
    "transform = A.HorizontalFlip(p=0.5)\n",
    "random.seed(90)\n",
    "augmented_image = transform(image=image)['image']\n",
    "visualize(augmented_image)"
   ]
  },
  {
   "cell_type": "code",
   "execution_count": null,
   "id": "f4e2fd62-4d85-4ba0-9a5b-6df71a183a14",
   "metadata": {},
   "outputs": [],
   "source": [
    "transform = A.ShiftScaleRotate(p=0.5)\n",
    "random.seed(7)\n",
    "augmented_image = transform(image=image)['image']\n",
    "visualize(augmented_image)"
   ]
  },
  {
   "cell_type": "code",
   "execution_count": null,
   "id": "0f55b844-3b11-440c-9481-340618796382",
   "metadata": {},
   "outputs": [],
   "source": [
    "transform(image=image)['image']"
   ]
  },
  {
   "cell_type": "code",
   "execution_count": 22,
   "id": "d6b76b87-5d7e-4419-9748-9be8f17ba543",
   "metadata": {},
   "outputs": [],
   "source": [
    "def augmentation_pipeline(image):\n",
    "    augmented_images = []\n",
    "    random.seed(7)\n",
    "    \n",
    "    transform = A.HorizontalFlip(p=0.5)\n",
    "    augmented_images.append(transform(image=image)['image'])\n",
    "\n",
    "    transform = A.ShiftScaleRotate(p=0.5)\n",
    "    augmented_images.append(transform(image=image)['image'])\n",
    "        \n",
    "    transform = A.Transpose()\n",
    "    augmented_images.append(transform(image=image)['image'])\n",
    "    \n",
    "    transform = A.GaussNoise()\n",
    "    augmented_images.append(transform(image=image)['image'])\n",
    "\n",
    "    return augmented_images"
   ]
  },
  {
   "cell_type": "code",
   "execution_count": 46,
   "id": "10ac790f-dfee-4312-9ed3-78709edc6db0",
   "metadata": {},
   "outputs": [],
   "source": [
    "data = []\n",
    "\n",
    "for i in range(1,10):\n",
    "    for j in range(0,7):\n",
    "        image = cv2.imread(\"images/0000\"+str(j)+str(i)+\".jpg\")\n",
    "        image = cv2.cvtColor(image, cv2.COLOR_BGR2RGB)\n",
    "        with open(\"labels/0000\"+str(j)+str(i)+\".txt\", \"r\") as f:\n",
    "            lines = f.readlines()\n",
    "            label_data = []\n",
    "            for line in lines:\n",
    "                parts = line.strip().split()\n",
    "                label_data[\"label\"] = int(parts[0])\n",
    "                label_data[\"x_center\"] = parts[1]\n",
    "                label_data[\"y_center\"] = parts[2]\n",
    "                label_data[\"width\"] = parts[3]\n",
    "                label_data[\"height\"] = parts[4]\n",
    "                bboxes.append([row['x_center'], row['y_center'], row['width'], row['height'],row['label']])\n",
    "\n",
    "\n",
    "        data.append({\"image\": image, \"label\": label_data})\n"
   ]
  },
  {
   "cell_type": "code",
   "execution_count": 55,
   "id": "efb4cdd5-6d8f-41b7-9a3e-ee0e513909b2",
   "metadata": {},
   "outputs": [],
   "source": [
    "transform = A.Compose([\n",
    "    A.RandomCrop(width=450, height=450), # Randomly crops a part of the image with specified width and height \n",
    "    A.HorizontalFlip(p=0.5), # has a chance of horizontally flipping the image\n",
    "    A.RandomBrightnessContrast(p=0.2), # Randomly changes the brightness and contrast of the input image\n",
    "], bbox_params=A.BboxParams(format='yolo'))"
   ]
  },
  {
   "cell_type": "code",
   "execution_count": 56,
   "id": "3d5b3121-0078-454c-aac4-ba7a40787f16",
   "metadata": {},
   "outputs": [
    {
     "ename": "ValueError",
     "evalue": "Please specify 'label_fields' in 'bbox_params' or add labels to the end of bbox because bboxes must have labels",
     "output_type": "error",
     "traceback": [
      "\u001b[0;31m---------------------------------------------------------------------------\u001b[0m",
      "\u001b[0;31mValueError\u001b[0m                                Traceback (most recent call last)",
      "Cell \u001b[0;32mIn[56], line 2\u001b[0m\n\u001b[1;32m      1\u001b[0m \u001b[38;5;28;01mfor\u001b[39;00m item \u001b[38;5;129;01min\u001b[39;00m data:\n\u001b[0;32m----> 2\u001b[0m     transformed \u001b[38;5;241m=\u001b[39m \u001b[43mtransform\u001b[49m\u001b[43m(\u001b[49m\u001b[43mimage\u001b[49m\u001b[38;5;241;43m=\u001b[39;49m\u001b[43mitem\u001b[49m\u001b[43m[\u001b[49m\u001b[38;5;124;43m\"\u001b[39;49m\u001b[38;5;124;43mimage\u001b[39;49m\u001b[38;5;124;43m\"\u001b[39;49m\u001b[43m]\u001b[49m\u001b[43m,\u001b[49m\u001b[43m \u001b[49m\u001b[43mbboxes\u001b[49m\u001b[38;5;241;43m=\u001b[39;49m\u001b[43mitem\u001b[49m\u001b[43m[\u001b[49m\u001b[38;5;124;43m\"\u001b[39;49m\u001b[38;5;124;43mlabel\u001b[39;49m\u001b[38;5;124;43m\"\u001b[39;49m\u001b[43m]\u001b[49m\u001b[43m)\u001b[49m\n\u001b[1;32m      3\u001b[0m     transformed_image \u001b[38;5;241m=\u001b[39m transformed[\u001b[38;5;124m'\u001b[39m\u001b[38;5;124mimage\u001b[39m\u001b[38;5;124m'\u001b[39m]\n\u001b[1;32m      4\u001b[0m     transformed_bboxes \u001b[38;5;241m=\u001b[39m transformed[\u001b[38;5;124m'\u001b[39m\u001b[38;5;124mbboxes\u001b[39m\u001b[38;5;124m'\u001b[39m]\n",
      "File \u001b[0;32m~/.local/lib/python3.10/site-packages/albumentations/core/composition.py:439\u001b[0m, in \u001b[0;36mCompose.__call__\u001b[0;34m(self, force_apply, *args, **data)\u001b[0m\n\u001b[1;32m    436\u001b[0m \u001b[38;5;28;01mif\u001b[39;00m \u001b[38;5;129;01mnot\u001b[39;00m need_to_run:\n\u001b[1;32m    437\u001b[0m     \u001b[38;5;28;01mreturn\u001b[39;00m data\n\u001b[0;32m--> 439\u001b[0m \u001b[38;5;28;43mself\u001b[39;49m\u001b[38;5;241;43m.\u001b[39;49m\u001b[43mpreprocess\u001b[49m\u001b[43m(\u001b[49m\u001b[43mdata\u001b[49m\u001b[43m)\u001b[49m\n\u001b[1;32m    441\u001b[0m \u001b[38;5;28;01mfor\u001b[39;00m t \u001b[38;5;129;01min\u001b[39;00m \u001b[38;5;28mself\u001b[39m\u001b[38;5;241m.\u001b[39mtransforms:\n\u001b[1;32m    442\u001b[0m     data \u001b[38;5;241m=\u001b[39m t(\u001b[38;5;241m*\u001b[39m\u001b[38;5;241m*\u001b[39mdata)\n",
      "File \u001b[0;32m~/.local/lib/python3.10/site-packages/albumentations/core/composition.py:451\u001b[0m, in \u001b[0;36mCompose.preprocess\u001b[0;34m(self, data)\u001b[0m\n\u001b[1;32m    449\u001b[0m \u001b[38;5;250m\u001b[39m\u001b[38;5;124;03m\"\"\"Preprocess input data before applying transforms.\"\"\"\u001b[39;00m\n\u001b[1;32m    450\u001b[0m \u001b[38;5;28mself\u001b[39m\u001b[38;5;241m.\u001b[39m_validate_data(data)\n\u001b[0;32m--> 451\u001b[0m \u001b[38;5;28;43mself\u001b[39;49m\u001b[38;5;241;43m.\u001b[39;49m\u001b[43m_preprocess_processors\u001b[49m\u001b[43m(\u001b[49m\u001b[43mdata\u001b[49m\u001b[43m)\u001b[49m\n\u001b[1;32m    452\u001b[0m \u001b[38;5;28mself\u001b[39m\u001b[38;5;241m.\u001b[39m_preprocess_arrays(data)\n",
      "File \u001b[0;32m~/.local/lib/python3.10/site-packages/albumentations/core/composition.py:476\u001b[0m, in \u001b[0;36mCompose._preprocess_processors\u001b[0;34m(self, data)\u001b[0m\n\u001b[1;32m    473\u001b[0m     \u001b[38;5;28;01mreturn\u001b[39;00m\n\u001b[1;32m    475\u001b[0m \u001b[38;5;28;01mfor\u001b[39;00m processor \u001b[38;5;129;01min\u001b[39;00m \u001b[38;5;28mself\u001b[39m\u001b[38;5;241m.\u001b[39mprocessors\u001b[38;5;241m.\u001b[39mvalues():\n\u001b[0;32m--> 476\u001b[0m     \u001b[43mprocessor\u001b[49m\u001b[38;5;241;43m.\u001b[39;49m\u001b[43mensure_data_valid\u001b[49m\u001b[43m(\u001b[49m\u001b[43mdata\u001b[49m\u001b[43m)\u001b[49m\n\u001b[1;32m    477\u001b[0m \u001b[38;5;28;01mfor\u001b[39;00m processor \u001b[38;5;129;01min\u001b[39;00m \u001b[38;5;28mself\u001b[39m\u001b[38;5;241m.\u001b[39mprocessors\u001b[38;5;241m.\u001b[39mvalues():\n\u001b[1;32m    478\u001b[0m     processor\u001b[38;5;241m.\u001b[39mpreprocess(data)\n",
      "File \u001b[0;32m~/.local/lib/python3.10/site-packages/albumentations/core/bbox_utils.py:212\u001b[0m, in \u001b[0;36mBboxProcessor.ensure_data_valid\u001b[0;34m(self, data)\u001b[0m\n\u001b[1;32m    207\u001b[0m     \u001b[38;5;28;01mif\u001b[39;00m data_exists \u001b[38;5;129;01mand\u001b[39;00m \u001b[38;5;28mlen\u001b[39m(data[data_name][\u001b[38;5;241m0\u001b[39m]) \u001b[38;5;241m<\u001b[39m BBOX_WITH_LABEL_SHAPE \u001b[38;5;129;01mand\u001b[39;00m \u001b[38;5;28mself\u001b[39m\u001b[38;5;241m.\u001b[39mparams\u001b[38;5;241m.\u001b[39mlabel_fields \u001b[38;5;129;01mis\u001b[39;00m \u001b[38;5;28;01mNone\u001b[39;00m:\n\u001b[1;32m    208\u001b[0m         msg \u001b[38;5;241m=\u001b[39m (\n\u001b[1;32m    209\u001b[0m             \u001b[38;5;124m\"\u001b[39m\u001b[38;5;124mPlease specify \u001b[39m\u001b[38;5;124m'\u001b[39m\u001b[38;5;124mlabel_fields\u001b[39m\u001b[38;5;124m'\u001b[39m\u001b[38;5;124m in \u001b[39m\u001b[38;5;124m'\u001b[39m\u001b[38;5;124mbbox_params\u001b[39m\u001b[38;5;124m'\u001b[39m\u001b[38;5;124m or add labels to the end of bbox \u001b[39m\u001b[38;5;124m\"\u001b[39m\n\u001b[1;32m    210\u001b[0m             \u001b[38;5;124m\"\u001b[39m\u001b[38;5;124mbecause bboxes must have labels\u001b[39m\u001b[38;5;124m\"\u001b[39m\n\u001b[1;32m    211\u001b[0m         )\n\u001b[0;32m--> 212\u001b[0m         \u001b[38;5;28;01mraise\u001b[39;00m \u001b[38;5;167;01mValueError\u001b[39;00m(msg)\n\u001b[1;32m    213\u001b[0m \u001b[38;5;28;01mif\u001b[39;00m \u001b[38;5;28mself\u001b[39m\u001b[38;5;241m.\u001b[39mparams\u001b[38;5;241m.\u001b[39mlabel_fields \u001b[38;5;129;01mand\u001b[39;00m \u001b[38;5;129;01mnot\u001b[39;00m \u001b[38;5;28mall\u001b[39m(i \u001b[38;5;129;01min\u001b[39;00m data \u001b[38;5;28;01mfor\u001b[39;00m i \u001b[38;5;129;01min\u001b[39;00m \u001b[38;5;28mself\u001b[39m\u001b[38;5;241m.\u001b[39mparams\u001b[38;5;241m.\u001b[39mlabel_fields):\n\u001b[1;32m    214\u001b[0m     msg \u001b[38;5;241m=\u001b[39m \u001b[38;5;124m\"\u001b[39m\u001b[38;5;124mYour \u001b[39m\u001b[38;5;124m'\u001b[39m\u001b[38;5;124mlabel_fields\u001b[39m\u001b[38;5;124m'\u001b[39m\u001b[38;5;124m are not valid - them must have same names as params in dict\u001b[39m\u001b[38;5;124m\"\u001b[39m\n",
      "\u001b[0;31mValueError\u001b[0m: Please specify 'label_fields' in 'bbox_params' or add labels to the end of bbox because bboxes must have labels"
     ]
    }
   ],
   "source": [
    "for item in data:\n",
    "    transformed = transform(image=item[\"image\"], bboxes=item[\"label\"])\n",
    "    transformed_image = transformed['image']\n",
    "    transformed_bboxes = transformed['bboxes']"
   ]
  },
  {
   "cell_type": "code",
   "execution_count": 23,
   "id": "9bb157be-fdfe-4873-a9ac-b218906b05de",
   "metadata": {},
   "outputs": [],
   "source": [
    "augmented_images_lists = []\n",
    "for image in images:\n",
    "    augmented_images_lists.append(augmentation_pipeline(image))"
   ]
  },
  {
   "cell_type": "code",
   "execution_count": null,
   "id": "93b8741b-ca43-48dd-9fe7-bd931738bc75",
   "metadata": {},
   "outputs": [],
   "source": [
    "for image_list in augmented_images_lists:\n",
    "    for image in image_list:\n",
    "        visualize(image)"
   ]
  },
  {
   "cell_type": "code",
   "execution_count": 40,
   "id": "fd943631-2996-44b7-a699-ab90cd3e3748",
   "metadata": {},
   "outputs": [
    {
     "data": {
      "text/plain": [
       "[0.509915014164306, 0.51, 0.9745042492917847, 0.972]"
      ]
     },
     "execution_count": 40,
     "metadata": {},
     "output_type": "execute_result"
    }
   ],
   "source": [
    "label_data[1][1]"
   ]
  },
  {
   "cell_type": "code",
   "execution_count": null,
   "id": "22b243ca-1b21-4aad-971f-49bd17aed51b",
   "metadata": {},
   "outputs": [],
   "source": []
  }
 ],
 "metadata": {
  "kernelspec": {
   "display_name": "Python 3 (ipykernel)",
   "language": "python",
   "name": "python3"
  },
  "language_info": {
   "codemirror_mode": {
    "name": "ipython",
    "version": 3
   },
   "file_extension": ".py",
   "mimetype": "text/x-python",
   "name": "python",
   "nbconvert_exporter": "python",
   "pygments_lexer": "ipython3",
   "version": "3.10.12"
  }
 },
 "nbformat": 4,
 "nbformat_minor": 5
}
