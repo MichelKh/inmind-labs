{
 "cells": [
  {
   "cell_type": "code",
   "execution_count": 2,
   "id": "00583aa9-34f3-4d74-b987-3e4d74113b91",
   "metadata": {},
   "outputs": [],
   "source": [
    "import torch\n",
    "\n",
    "class TinyModel(torch.nn.Module):\n",
    "\n",
    "    def __init__(self):\n",
    "        super().__init__()\n",
    "\n",
    "        self.linear1= torch.nn.Linear(4, 6)\n",
    "        self.activation1 = torch.nn.LeakyReLU()\n",
    "        \n",
    "        self.linear2 = torch.nn.Linear(6, 8)\n",
    "        self.activation2 = torch.nn.tanh()\n",
    "        \n",
    "        self.linear3 = torch.nn.Linear(8, 4)\n",
    "        self.activation3 = torch.nn.signmoid()\n",
    "        \n",
    "        self.linear4 = torch.nn.Linear(4, 4)\n",
    "        self.activation4 = torch.nn.ELU()\n",
    "\n",
    "        self.linear5 = torch.nn.Linear(4, 2)\n",
    "        self.activation5 = torch.nn.Softmax()\n",
    "        \n",
    "\n",
    "    def forward(self, x):\n",
    "        x = self.linear1(x)\n",
    "        x = self.activation1(x)\n",
    "\n",
    "        x = self.linear2(x)\n",
    "        x = self.activation2(x)\n",
    "        \n",
    "        x = self.linear3(x)\n",
    "        x = self.activation3(x)\n",
    "        \n",
    "        x = self.linear4(x)\n",
    "        x = self.activation4(x)\n",
    "        \n",
    "        x = self.linear5(x)\n",
    "        x = self.activation5(x)\n",
    "        \n",
    "        return x"
   ]
  },
  {
   "cell_type": "code",
   "execution_count": null,
   "id": "1617b945-dadf-41c5-b082-8525aea0a14f",
   "metadata": {},
   "outputs": [],
   "source": []
  }
 ],
 "metadata": {
  "kernelspec": {
   "display_name": "Python 3 (ipykernel)",
   "language": "python",
   "name": "python3"
  },
  "language_info": {
   "codemirror_mode": {
    "name": "ipython",
    "version": 3
   },
   "file_extension": ".py",
   "mimetype": "text/x-python",
   "name": "python",
   "nbconvert_exporter": "python",
   "pygments_lexer": "ipython3",
   "version": "3.10.12"
  }
 },
 "nbformat": 4,
 "nbformat_minor": 5
}
